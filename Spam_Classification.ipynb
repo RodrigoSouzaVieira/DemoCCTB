{
  "cells": [
    {
      "cell_type": "markdown",
      "metadata": {
        "id": "view-in-github",
        "colab_type": "text"
      },
      "source": [
        "<a href=\"https://colab.research.google.com/github/RodrigoSouzaVieira/DemoCCTB/blob/main/Spam_Classification.ipynb\" target=\"_parent\"><img src=\"https://colab.research.google.com/assets/colab-badge.svg\" alt=\"Open In Colab\"/></a>"
      ]
    },
    {
      "cell_type": "markdown",
      "id": "2d701536",
      "metadata": {
        "id": "2d701536"
      },
      "source": [
        "# Spam Classification using Naïve Bayes"
      ]
    },
    {
      "cell_type": "code",
      "execution_count": 1,
      "id": "0935c1dc",
      "metadata": {
        "colab": {
          "base_uri": "https://localhost:8080/"
        },
        "id": "0935c1dc",
        "outputId": "02d78b1b-82d0-458a-b0dc-e97a5efbf157"
      },
      "outputs": [
        {
          "output_type": "stream",
          "name": "stderr",
          "text": [
            "[nltk_data] Downloading package punkt to /root/nltk_data...\n",
            "[nltk_data]   Unzipping tokenizers/punkt.zip.\n"
          ]
        },
        {
          "output_type": "execute_result",
          "data": {
            "text/plain": [
              "True"
            ]
          },
          "metadata": {},
          "execution_count": 1
        }
      ],
      "source": [
        "\n",
        "import numpy as np\n",
        "import pandas as pd\n",
        "import nltk\n",
        "from sklearn.feature_extraction.text import TfidfVectorizer\n",
        "from sklearn.naive_bayes import MultinomialNB\n",
        "from sklearn.pipeline import make_pipeline\n",
        "\n",
        "\n",
        "nltk.download('punkt')\n"
      ]
    },
    {
      "cell_type": "code",
      "execution_count": 2,
      "id": "3e789300",
      "metadata": {
        "id": "3e789300"
      },
      "outputs": [],
      "source": [
        "\n",
        "# Sample training dataset (10 sentences)\n",
        "data = [\n",
        "    (\"Win a free iPhone now!\", \"spam\"),\n",
        "    (\"Congratulations! You've won a lottery.\", \"spam\"),\n",
        "    (\"Click here to claim your prize.\", \"spam\"),\n",
        "    (\"Limited offer! Buy now.\", \"spam\"),\n",
        "    (\"Hello, how are you today?\", \"not spam\"),\n",
        "    (\"Let's schedule a meeting for tomorrow.\", \"not spam\"),\n",
        "    (\"Please review the attached document.\", \"not spam\"),\n",
        "    (\"Reminder: Your appointment is tomorrow.\", \"not spam\"),\n",
        "    (\"Your package has been shipped.\", \"not spam\"),\n",
        "    (\"Special discount just for you!\", \"spam\")\n",
        "]\n",
        "\n",
        "# Convert to DataFrame\n",
        "df = pd.DataFrame(data, columns=['text', 'label'])\n",
        "\n",
        "# Split into features and labels\n",
        "X_train = df['text']\n",
        "y_train = df['label']\n"
      ]
    },
    {
      "cell_type": "code",
      "execution_count": 3,
      "id": "90d550aa",
      "metadata": {
        "colab": {
          "base_uri": "https://localhost:8080/"
        },
        "id": "90d550aa",
        "outputId": "7eff7e18-a2f9-47e6-c88c-d60790dde744"
      },
      "outputs": [
        {
          "output_type": "stream",
          "name": "stdout",
          "text": [
            "Model trained successfully!\n"
          ]
        }
      ],
      "source": [
        "\n",
        "# Create a pipeline: TF-IDF + Naïve Bayes\n",
        "model = make_pipeline(TfidfVectorizer(), MultinomialNB())\n",
        "\n",
        "# Train the model\n",
        "model.fit(X_train, y_train)\n",
        "print(\"Model trained successfully!\")\n"
      ]
    },
    {
      "cell_type": "code",
      "execution_count": 4,
      "id": "9c1e9960",
      "metadata": {
        "colab": {
          "base_uri": "https://localhost:8080/"
        },
        "id": "9c1e9960",
        "outputId": "738a3de4-ff25-4ee7-962d-4a8891562737"
      },
      "outputs": [
        {
          "output_type": "stream",
          "name": "stdout",
          "text": [
            "Text: Exclusive deal just for you! --> Predicted Label: spam\n",
            "Text: Let's have lunch tomorrow. --> Predicted Label: not spam\n"
          ]
        }
      ],
      "source": [
        "\n",
        "# Predict on new text data\n",
        "new_text = [\"Exclusive deal just for you!\", \"Let's have lunch tomorrow.\"]\n",
        "predicted_labels = model.predict(new_text)\n",
        "\n",
        "# Print results\n",
        "for text, label in zip(new_text, predicted_labels):\n",
        "    print(f\"Text: {text} --> Predicted Label: {label}\")\n"
      ]
    }
  ],
  "metadata": {
    "colab": {
      "provenance": [],
      "include_colab_link": true
    },
    "language_info": {
      "name": "python"
    },
    "kernelspec": {
      "name": "python3",
      "display_name": "Python 3"
    }
  },
  "nbformat": 4,
  "nbformat_minor": 5
}